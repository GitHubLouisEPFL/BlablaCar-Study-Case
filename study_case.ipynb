{
 "cells": [
  {
   "cell_type": "markdown",
   "id": "faeb672e",
   "metadata": {},
   "source": [
    "# Data Automation Intern Case Study "
   ]
  },
  {
   "cell_type": "markdown",
   "id": "028dd6a6",
   "metadata": {},
   "source": [
    "Important information before running this notebook : \n",
    "\n",
    "1. To run this notebook, you need the following python libraries (with a recent Python version, I am using Python 3.13.5) : pandas, openrouteservice, folium.\n",
    "2. This notebook uses openrouteservice's free API. For this project to run properly, please create a free openrouteservice account (https://openrouteservice.org/) and add you personal API key in the next cell. \n",
    "3. This notebook is using an API, which means the code is not \"working whatever the number of times we run the program\". However, I deemed the API's limitations reasonable so I decided to stick to this method (40 reqests/min, and 2000/day). To overcome these limitations, I wanted to use the BlaBlaCar Bus GTFS datasets, but unfortunately the shapes table is empty. "
   ]
  },
  {
   "cell_type": "code",
   "execution_count": null,
   "id": "eced75b0",
   "metadata": {},
   "outputs": [],
   "source": [
    "my_key = 'please replace with your own API key'"
   ]
  },
  {
   "cell_type": "markdown",
   "id": "4445170a",
   "metadata": {},
   "source": [
    "## 1. Python Exercice"
   ]
  },
  {
   "cell_type": "markdown",
   "id": "06e69bc5",
   "metadata": {},
   "source": [
    "Please run the following cell to input the stations names and coordinates."
   ]
  },
  {
   "cell_type": "code",
   "execution_count": null,
   "id": "65f9527d",
   "metadata": {},
   "outputs": [],
   "source": [
    "def generate_stations_list() -> list:\n",
    "    \"\"\"\n",
    "    This function prompts the user to input station names and their coordinates,\n",
    "    and generates a list of tuples containing these information.\n",
    "\n",
    "    The list has the form: [(station_name, latitude, longitude), ...]\n",
    "    \"\"\"\n",
    "\n",
    "    stations_list = []\n",
    "\n",
    "    while True:\n",
    "        station_name = input(\"Enter the name of the station: \")\n",
    "\n",
    "        while True:\n",
    "            try:\n",
    "                coordinates = input(\"Please enter the coordinates of the station (latitude, longitude): \")\n",
    "                coordinates = coordinates.replace('(', '').replace(')', '')\n",
    "                lat_str, lon_str = coordinates.split(',')\n",
    "                lat = float(lat_str.strip())\n",
    "                lon = float(lon_str.strip())\n",
    "\n",
    "            except ValueError:\n",
    "                print(\"Invalid coordinates format. Please enter them as (latitude, longitude).\")\n",
    "                continue\n",
    "\n",
    "            if not (-90 <= lat <= 90):\n",
    "                print(\"Latitude must be between -90 and 90.\")\n",
    "                continue\n",
    "            if not (-180 <= lon <= 180):\n",
    "                print(\"Longitude must be between -180 and 180.\")\n",
    "                continue\n",
    "\n",
    "            break\n",
    "            \n",
    "        stations_list.append((station_name, lat, lon))\n",
    "        \n",
    "        another = input(\"Do you want to add another station? (yes/no): \").strip().lower()\n",
    "        if another != 'yes':\n",
    "            break\n",
    "\n",
    "    return stations_list\n",
    "\n",
    "stations_list = generate_stations_list()"
   ]
  },
  {
   "cell_type": "markdown",
   "id": "4cc370f8",
   "metadata": {},
   "source": [
    "If you want to manually add a list of stations [(station1, lat1, lon1), (station2, lat2, lon2), ...], please fill and uncomment the following line:"
   ]
  },
  {
   "cell_type": "code",
   "execution_count": null,
   "id": "bb39a8ed",
   "metadata": {},
   "outputs": [],
   "source": [
    "# stations_list = [('station1', lat1, lon1), ('station2', lat2, lon2), ...]"
   ]
  },
  {
   "cell_type": "markdown",
   "id": "1ec489f2",
   "metadata": {},
   "source": [
    "If you want a preview of the itinerary, please run the following cell."
   ]
  },
  {
   "cell_type": "code",
   "execution_count": null,
   "id": "93f1afb3",
   "metadata": {},
   "outputs": [],
   "source": [
    "import pandas as pd\n",
    "\n",
    "stations_table = pd.DataFrame(stations_list, columns=['station_name', 'lat', 'lon'])\n",
    "stations_table.head(10) # change the number to see more rows"
   ]
  },
  {
   "cell_type": "markdown",
   "id": "27a501a2",
   "metadata": {},
   "source": [
    "The function to plot the itinerary on a map is defined below."
   ]
  },
  {
   "cell_type": "code",
   "execution_count": null,
   "id": "19cfde2e",
   "metadata": {},
   "outputs": [],
   "source": [
    "from openrouteservice.exceptions import ApiError\n",
    "import openrouteservice\n",
    "import folium\n",
    "\n",
    "def print_itinerary_map(stations_list, api_key) -> folium.Map:\n",
    "    \"\"\"\n",
    "    This function generates a map displaying the stations and routes between them, when\n",
    "    possible, in the order they are provided in the list.\n",
    "    \"\"\"\n",
    "\n",
    "    client = openrouteservice.Client(key=api_key)\n",
    "\n",
    "    # Initialize the map (zoom on first station)\n",
    "    first_lat, first_lon = stations_list[0][1], stations_list[0][2]\n",
    "    m = folium.Map(location=[first_lat, first_lon], zoom_start=7)\n",
    "\n",
    "    # Display all stations on the map\n",
    "    for name, lat, lon in stations_list:\n",
    "        folium.Marker(\n",
    "            location=[lat, lon],\n",
    "            popup=name, # Display station name on click\n",
    "            icon=folium.Icon(color='blue', icon='info-sign')\n",
    "        ).add_to(m)\n",
    "\n",
    "        # display the station name permanently on the map, as in the instructions example\n",
    "        folium.Marker(\n",
    "            location=[lat, lon],\n",
    "            icon=folium.DivIcon(html=f\"\"\" \n",
    "                <div style=\"\n",
    "                    display: inline-block;\n",
    "                    background-color: white;\n",
    "                    color: black;\n",
    "                    padding: 2px 6px;\n",
    "                    border: 1px solid black;\n",
    "                    border-radius: 3px;\n",
    "                    white-space: nowrap;\n",
    "                    font-size: 12px;\n",
    "                    box-shadow: 1px 1px 2px rgba(0,0,0,0.3);\n",
    "                \">\n",
    "                    {name}\n",
    "                </div>\n",
    "            \"\"\")\n",
    "        ).add_to(m)\n",
    "\n",
    "    # Find the first valid station (usable as route origin)\n",
    "    valid_stations = []\n",
    "    start_index = None\n",
    "\n",
    "    for i, (name, lat, lon) in enumerate(stations_list):\n",
    "        try:\n",
    "            # Check validity by requesting a route to itself\n",
    "            coords = ((lon, lat), (lon, lat))\n",
    "            client.directions(coords, profile='driving-car', format='geojson')\n",
    "            valid_stations.append(stations_list[i])\n",
    "            start_index = i\n",
    "            print(f\"First valid station found: {name}\")\n",
    "            break\n",
    "        except:\n",
    "            print(f\"Station \\\"{name}\\\" is not a valid starting point. Trying next...\")\n",
    "\n",
    "    if start_index is None:\n",
    "        print(\"No valid station found. Ending script.\")\n",
    "\n",
    "    else:\n",
    "        # Plot routes between valid stations starting from the first valid one\n",
    "        for j in range(start_index + 1, len(stations_list)):\n",
    "            start = valid_stations[-1]\n",
    "            candidate = stations_list[j]\n",
    "            coords = ((start[2], start[1]), (candidate[2], candidate[1]))  # lon, lat\n",
    "\n",
    "            try:\n",
    "                route = client.directions(coords, profile='driving-car', format='geojson')\n",
    "                folium.GeoJson(route, name=f\"Route {start[0]} → {candidate[0]}\").add_to(m)\n",
    "                valid_stations.append(candidate)\n",
    "            except ApiError:\n",
    "                print(f\"Route from {start[0]} to {candidate[0]} not available. Skipping.\")\n",
    "            except Exception as e:\n",
    "                print(f\"Unexpected error between {start[0]} and {candidate[0]}: {e}\")\n",
    "\n",
    "    return m"
   ]
  },
  {
   "cell_type": "code",
   "execution_count": null,
   "id": "b5d6f29e",
   "metadata": {},
   "outputs": [],
   "source": [
    "m = print_itinerary_map(stations_list, my_key)\n",
    "m\n",
    "\n",
    "# If you encounter issues with the map not displaying, you can save it to an HTML file, and open it in a web browser.\n",
    "# m.save('itinerary_map.html')"
   ]
  },
  {
   "cell_type": "markdown",
   "id": "bcde27c3",
   "metadata": {},
   "source": [
    "## 2. Tests"
   ]
  },
  {
   "cell_type": "markdown",
   "id": "fd07240c",
   "metadata": {},
   "source": [
    "Test n°1 : one of the intermediate stations is not accessible."
   ]
  },
  {
   "cell_type": "code",
   "execution_count": null,
   "id": "61e55e3d",
   "metadata": {},
   "outputs": [],
   "source": [
    "stations_list = [\n",
    "    ('Bordeaux', 44.837789, -0.579180),\n",
    "    ('Nantes', 47.218371, -1.553621),\n",
    "    ('Le Mans', 48.000000, 0.200000),\n",
    "    ('Inccorrect Station', 50.205418, 0.989597),  # This station is not accessible\n",
    "    ('Paris', 48.856613, 2.352222),\n",
    "    ('Reims', 49.258329, 4.031696),\n",
    "    ('Bruxelles', 50.850346, 4.351721)\n",
    "]\n",
    "\n",
    "print_itinerary_map(stations_list, my_key)"
   ]
  },
  {
   "cell_type": "markdown",
   "id": "02ce28bd",
   "metadata": {},
   "source": [
    "Test n°2 : The first stations are incorrect stations."
   ]
  },
  {
   "cell_type": "code",
   "execution_count": null,
   "id": "036db487",
   "metadata": {},
   "outputs": [],
   "source": [
    "\n",
    "stations_list = [\n",
    "    ('Moutains', 46.604703,8.140242),\n",
    "    ('Desert', 20, 12),\n",
    "    ('Bordeaux', 44.837789, -0.579180),\n",
    "    ('Atlantic ocean', 21.388334, -44.353513),\n",
    "    ('Nantes', 47.218371, -1.553621),\n",
    "    ('Le Mans', 48.000000, 0.200000),\n",
    "    ('Paris', 48.856613, 2.352222),\n",
    "    ('Reims', 49.258329, 4.031696),\n",
    "    ('Bruxelles', 50.850346, 4.351721)\n",
    "]\n",
    "\n",
    "print_itinerary_map(stations_list, my_key)"
   ]
  },
  {
   "cell_type": "markdown",
   "id": "8000881b",
   "metadata": {},
   "source": [
    "Test n°3 : The final station is incorrect."
   ]
  },
  {
   "cell_type": "code",
   "execution_count": null,
   "id": "14b1398f",
   "metadata": {},
   "outputs": [],
   "source": [
    "stations_list = [\n",
    "    ('Bordeaux', 44.837789, -0.579180),\n",
    "    ('Nantes', 47.218371, -1.553621),\n",
    "    ('Le Mans', 48.000000, 0.200000),\n",
    "    ('Paris', 48.856613, 2.352222),\n",
    "    ('Reims', 49.258329, 4.031696),\n",
    "    ('Bruxelles', 50.850346, 4.351721),\n",
    "    ('Inccorrect Station', 50.205418, 0.989597) # This station is not accessible\n",
    "]\n",
    "\n",
    "print_itinerary_map(stations_list, my_key)"
   ]
  }
 ],
 "metadata": {
  "kernelspec": {
   "display_name": "study_case",
   "language": "python",
   "name": "python3"
  },
  "language_info": {
   "codemirror_mode": {
    "name": "ipython",
    "version": 3
   },
   "file_extension": ".py",
   "mimetype": "text/x-python",
   "name": "python",
   "nbconvert_exporter": "python",
   "pygments_lexer": "ipython3",
   "version": "3.13.5"
  }
 },
 "nbformat": 4,
 "nbformat_minor": 5
}
